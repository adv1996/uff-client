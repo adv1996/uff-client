{
 "cells": [
  {
   "cell_type": "code",
   "execution_count": 8,
   "id": "79c14951",
   "metadata": {},
   "outputs": [
    {
     "data": {
      "text/plain": [
       "[{'roster_id': 1, 'owner_id': 'user-1'},\n",
       " {'roster_id': 2, 'owner_id': 'user-2'},\n",
       " {'roster_id': 3, 'owner_id': 'user-3'},\n",
       " {'roster_id': 4, 'owner_id': 'user-4'},\n",
       " {'roster_id': 5, 'owner_id': 'user-5'},\n",
       " {'roster_id': 6, 'owner_id': 'user-6'},\n",
       " {'roster_id': 7, 'owner_id': 'user-7'},\n",
       " {'roster_id': 8, 'owner_id': 'user-8'},\n",
       " {'roster_id': 9, 'owner_id': 'user-9'},\n",
       " {'roster_id': 10, 'owner_id': 'user-10'},\n",
       " {'roster_id': 11, 'owner_id': 'user-11'},\n",
       " {'roster_id': 12, 'owner_id': 'user-12'}]"
      ]
     },
     "execution_count": 8,
     "metadata": {},
     "output_type": "execute_result"
    }
   ],
   "source": [
    "# Team Size - 12\n",
    "\n",
    "# Construct Users File\n",
    "#   avatar: string;\n",
    "#   display_name: string;\n",
    "#   metadata: {\n",
    "#     team_name?: string;\n",
    "#     avatar?: WithPrefix<\"https://\">;\n",
    "#   };\n",
    "#   user_id: string;\n",
    "\n",
    "teamSize = 12\n",
    "\n",
    "def createUser(seed):\n",
    "    return {\n",
    "        'avatar': \"fed35eef4b71cc48b383db68b9ef0c31\",\n",
    "        'display_name': f'User {seed}',\n",
    "        'metadata': {\n",
    "            'team_name': f'Team {seed}'\n",
    "            # avatar in metadata is a url\n",
    "        },\n",
    "        'user_id': f'user-{seed}'\n",
    "    }\n",
    "\n",
    "def createRoster(seed):\n",
    "    return {\n",
    "        'roster_id': seed,\n",
    "        'owner_id': f'user-{seed}'\n",
    "    }\n",
    "    \n",
    "mockUsers = list(map(lambda n: createUser(n + 1), range(teamSize)))\n",
    "mockRosters = list(map(lambda n: createRoster(n + 1), range(teamSize)))\n",
    "\n",
    "mockRosters"
   ]
  },
  {
   "cell_type": "code",
   "execution_count": null,
   "id": "1122e471",
   "metadata": {},
   "outputs": [],
   "source": []
  }
 ],
 "metadata": {
  "kernelspec": {
   "display_name": "Python 3 (ipykernel)",
   "language": "python",
   "name": "python3"
  },
  "language_info": {
   "codemirror_mode": {
    "name": "ipython",
    "version": 3
   },
   "file_extension": ".py",
   "mimetype": "text/x-python",
   "name": "python",
   "nbconvert_exporter": "python",
   "pygments_lexer": "ipython3",
   "version": "3.11.2"
  }
 },
 "nbformat": 4,
 "nbformat_minor": 5
}
